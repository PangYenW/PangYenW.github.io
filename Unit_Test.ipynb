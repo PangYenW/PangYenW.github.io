{
 "cells": [
  {
   "cell_type": "code",
   "execution_count": 6,
   "metadata": {},
   "outputs": [
    {
     "name": "stdout",
     "output_type": "stream",
     "text": [
      "<html><head>\n",
      "    <link href=\"https://fonts.googleapis.com/css?family=Gloria+Hallelujah|Laila\" rel=\"stylesheet\">\n",
      "    <link rel=\"stylesheet\" href=\"homepage.css\">\n",
      "<link rel=\"stylesheet\" href=\"https://use.fontawesome.com/releases/v5.7.2/css/all.css\" integrity=\"sha384-fnmOCqbTlWIlj8LyTjo7mOUStjsKC4pOpQbqyi7RrhN7udi9RwhKkMHpvLbHG9Sr\" crossorigin=\"anonymous\">\n",
      "    <title> UBStalking'-' </title>\n",
      "    </head><body><h1>UBStalking'-'</h1>\n",
      "<!---->\n",
      "\n",
      "  <!-- here is the search bar-->\n",
      "  <div>\n",
      "  <form action=\"ProfessorProfileTemplate.php\" method=\"post\">\n",
      "    <input type=\"text\" id=\"search-bar\" placeholder=\"Search for your professors!\" value=\"\" name=\"search\" maxlength=\"50\" autocompleete=\"off\" onmousedown=\"\" onblur=\"\"><input type=\"submit\" id=\"search-btn\" name=\"submit-search\" value=\"Go!\">\n",
      "  </form>\n",
      "  </div>\n",
      "\n",
      "\n",
      "  <nav>\n",
      "    <div class=\"logo\" href=\"homepage.html\">\n",
      "      <h3> UBStalking'-' </h3>\n",
      "    </div>\n",
      "    <ul class=\"nav-sub\">\n",
      "      <li><a href=\"ScheduleMatching.html\">Schedule Matching</a>\n",
      "      </li>\n",
      "      <li><a href=\"OfficeNavigation.html\">Office Navigation</a>\n",
      "      </li>\n",
      "      <li><a href=\"#\">Report Bugs</a>\n",
      "      </li>\n",
      "    </ul>\n",
      "  </nav>\n",
      "\n",
      "\n",
      "\n",
      "\n",
      "\n",
      "\n",
      "</body></html>\n"
     ]
    }
   ],
   "source": [
    "from selenium import webdriver\n",
    "import time\n",
    "from selenium.webdriver.common.action_chains import ActionChains\n",
    "\n",
    "browser = webdriver.Firefox() \n",
    "browser.get('http://www.ubstalking.com')\n",
    "time.sleep(5)\n",
    "# 用于模拟用户将鼠标移动到指定元素的行为,执行存储行为\n",
    "ActionChains(driver).move_to_element(xxxx).perform()  \n",
    "pageSource = browser.page_source\n",
    "print(pageSource)"
   ]
  },
  {
   "cell_type": "code",
   "execution_count": 38,
   "metadata": {},
   "outputs": [
    {
     "name": "stdout",
     "output_type": "stream",
     "text": [
      "kris\n",
      "search\n",
      "50\n",
      "False\n",
      "True\n"
     ]
    }
   ],
   "source": [
    "from selenium import webdriver\n",
    "from time import sleep\n",
    "from selenium.webdriver.common.action_chains import ActionChains\n",
    "\n",
    "driver = webdriver.Firefox()\n",
    "\n",
    "driver.get(\"http://www.ubstalking.com/ProfessorProfileTemplate.php\")\n",
    "ele = driver.find_element_by_id('search-bar')\n",
    "ele.send_keys('kris')\n",
    "driver.find_element_by_id('search-btn').submit()\n",
    "print(ele.get_property('value')) #获得输入框的值\n",
    "print(ele.get_attribute('name')) #获得name属性值\n",
    "print(ele.get_attribute('maxlength')) #获得maxlength属性值\n",
    "print(ele.is_selected()) #输入框是否被选中\n",
    "print(ele.is_displayed()) #输入框是否可见\n",
    "sleep(2)\n",
    "driver.quit()\n"
   ]
  },
  {
   "cell_type": "code",
   "execution_count": null,
   "metadata": {},
   "outputs": [],
   "source": [
    "from selenium import webdriver\n",
    "from time import sleep\n",
    "from selenium.webdriver.common.action_chains import ActionChains\n",
    "\n",
    "driver = webdriver.Firefox()\n",
    "\n",
    "driver.get(\"http://www.ubstalking.com/ProfessorProfileTemplate.php\")\n",
    "ele = driver.find_element_by_id('search-bar')\n",
    "ele.send_keys('kris')\n",
    "driver.find_element_by_id('search-btn').submit()\n",
    "print(ele.get_property('value')) #获得输入框的值\n",
    "print(ele.get_attribute('name')) #获得name属性值\n",
    "print(ele.get_attribute('maxlength')) #获得maxlength属性值\n",
    "print(ele.is_selected()) #输入框是否被选中\n",
    "print(ele.is_displayed()) #输入框是否可见\n",
    "sleep(2)\n",
    "driver.quit()\n",
    "\n"
   ]
  },
  {
   "cell_type": "code",
   "execution_count": null,
   "metadata": {},
   "outputs": [],
   "source": []
  }
 ],
 "metadata": {
  "kernelspec": {
   "display_name": "Python 3",
   "language": "python",
   "name": "python3"
  },
  "language_info": {
   "codemirror_mode": {
    "name": "ipython",
    "version": 3
   },
   "file_extension": ".py",
   "mimetype": "text/x-python",
   "name": "python",
   "nbconvert_exporter": "python",
   "pygments_lexer": "ipython3",
   "version": "3.6.5"
  }
 },
 "nbformat": 4,
 "nbformat_minor": 2
}
